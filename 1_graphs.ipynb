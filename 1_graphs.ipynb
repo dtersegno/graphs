{
 "cells": [
  {
   "cell_type": "markdown",
   "id": "fd075238",
   "metadata": {},
   "source": [
    "Ford Fulkerson\n",
    "---"
   ]
  },
  {
   "cell_type": "code",
   "execution_count": 1,
   "id": "b1f0c90c",
   "metadata": {},
   "outputs": [],
   "source": [
    "import numpy as np"
   ]
  },
  {
   "cell_type": "code",
   "execution_count": 31,
   "id": "44dee600",
   "metadata": {},
   "outputs": [],
   "source": [
    "#a graph with a list of nodes and functions for a breadth-first search.\n",
    "class graph:\n",
    "    def __init__(self, nodes, links, capacities):\n",
    "        self.nodes = nodes\n",
    "        self.links = links\n",
    "        self.capacities = capacities\n",
    "    \n",
    "    def get_links_from(self, node):\n",
    "        return [\n",
    "            link for link in self.links\n",
    "            if link[0] == node\n",
    "        ]\n",
    "    \n",
    "    def get_links_to(self, node):\n",
    "        return [\n",
    "            link for link in self.links\n",
    "            if link[1] == node\n",
    "        ]\n",
    "    \n",
    "    def remove_searched_nodes(self, node_list, searched_list):\n",
    "        return [\n",
    "            node for node in node_list\n",
    "            if node not in searched_list\n",
    "        ]\n",
    "    \n",
    "    def after(self, node):\n",
    "        links_out = self.get_links_from(node)\n",
    "        return [\n",
    "            link[1] for link in links_out\n",
    "        ]\n",
    "    \n",
    "    def before(self, node):\n",
    "        links_in = self.get_links_to(node)\n",
    "        return [\n",
    "            link[0] for link in links_in\n",
    "        ]\n",
    "    \n",
    "    #breadth-first search if there is a chain from node1 to node2\n",
    "    def is_connected(self, node1, node2):\n",
    "        search_queue = []\n",
    "        searched_nodes = []\n",
    "        search_queue = search_queue + remove_searched_nodes(after(node1), seached_nodes)\n",
    "        searched_nodes.append(node1)\n",
    "        while len(search_queue) > 0:\n",
    "            #take a node from the queue\n",
    "            this_node = search_queue.pop()\n",
    "            #if the node hasn't been searched before...\n",
    "            if this_node not in searched_nodes:\n",
    "                #add it to the list of searched_nodes\n",
    "                searched_nodes.append(this_node)\n",
    "                this_nodes_after\n",
    "                \n",
    "        "
   ]
  },
  {
   "cell_type": "code",
   "execution_count": 32,
   "id": "dadd3eb6",
   "metadata": {},
   "outputs": [],
   "source": [
    "gph = graph([1,2,3], [[1,2],[2,3],[1,3]], [4, 5, 9])"
   ]
  }
 ],
 "metadata": {
  "kernelspec": {
   "display_name": "Python 3 (ipykernel)",
   "language": "python",
   "name": "python3"
  },
  "language_info": {
   "codemirror_mode": {
    "name": "ipython",
    "version": 3
   },
   "file_extension": ".py",
   "mimetype": "text/x-python",
   "name": "python",
   "nbconvert_exporter": "python",
   "pygments_lexer": "ipython3",
   "version": "3.9.7"
  }
 },
 "nbformat": 4,
 "nbformat_minor": 5
}
